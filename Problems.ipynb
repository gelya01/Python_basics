{
  "nbformat": 4,
  "nbformat_minor": 0,
  "metadata": {
    "colab": {
      "provenance": []
    },
    "kernelspec": {
      "name": "python3",
      "display_name": "Python 3"
    },
    "language_info": {
      "name": "python"
    }
  },
  "cells": [
    {
      "cell_type": "markdown",
      "source": [
        "### Solved/Solving problems"
      ],
      "metadata": {
        "id": "je_fbDvf8AG5"
      }
    },
    {
      "cell_type": "markdown",
      "source": [
        "\n",
        "Вводим числа (не отрицательные). Конец последовательности - 0. Посчитать кол-во чисел, кратных 3. Сумму чисел, кратных 5  "
      ],
      "metadata": {
        "id": "_Yy4dWpVsv_1"
      }
    },
    {
      "cell_type": "code",
      "source": [
        "kr3  = 0\n",
        "sk5 = 0\n",
        "while True:\n",
        "    a = int(input())\n",
        "    if a <= 0:\n",
        "        break\n",
        "    if a % 3 == 0:\n",
        "        kr3 += 1\n",
        "    if a % 5 == 0:\n",
        "        sk5 += a\n",
        "print(f\"Кол-во чисел кратных 3: {kr3}\")\n",
        "print(f\"Сумма чисел кратных 5: {sk5}\" )"
      ],
      "metadata": {
        "id": "AIz5LZ6Tswsr"
      },
      "execution_count": null,
      "outputs": []
    },
    {
      "cell_type": "markdown",
      "source": [
        "Вводим целые числа, последовательность оканчивается 0.\n",
        "Посчитать кол-во положительных, отрицательных, среднее арифметическое положительных чисел кратных 7.\n",
        "Пример:   \n",
        "Ввод:   \n",
        "1  \n",
        "7  \n",
        "9  \n",
        "0  \n",
        "5  \n",
        "Вывод:  \n",
        "Кол-во чисел кратных 3: 1  \n",
        "Сумма чисел кратных 5: 0\n"
      ],
      "metadata": {
        "id": "YR0P-SSa_zw4"
      }
    },
    {
      "cell_type": "code",
      "source": [
        "kp = 0\n",
        "ko = 0\n",
        "sa7 = 0\n",
        "summa_sa7 = 0\n",
        "while True:\n",
        "    a = int(input())\n",
        "    if a == 0:\n",
        "        break\n",
        "    if a > 0 and a%7 == 0:\n",
        "         sa7 += 1\n",
        "         summa_sa7+= a\n",
        "    if a > 0:\n",
        "        kp += 1\n",
        "    if a < 0:\n",
        "        ko += 1\n",
        "print(f\"Кол-во положительных: {kp}\")\n",
        "print(f\"Кол-во отрицательных: {ko}\")\n",
        "print(f\"Среднее арифметическое положительных кратных 7: {summa_sa7/sa7}\")"
      ],
      "metadata": {
        "id": "dy6zKBTDsrZ3"
      },
      "execution_count": null,
      "outputs": []
    },
    {
      "cell_type": "markdown",
      "source": [
        "**1.** Программа получает на вход последовательность целых неотрицательных чисел, каждое число записано в отдельной строке. Последовательность завершается числом 0, при считывании которого программа должна закончить свою работу и вывести количество членов последовательности (не считая завершающего числа 0).  \n",
        "Числа, следующие за числом 0, считывать не нужно.\n",
        "\n",
        "Пример:   \n",
        "Ввод:   \n",
        "1  \n",
        "7  \n",
        "9  \n",
        "0  \n",
        "5  \n",
        "Вывод:  \n",
        "3\n",
        "\n"
      ],
      "metadata": {
        "id": "1Tne67-68WV3"
      }
    },
    {
      "cell_type": "code",
      "source": [],
      "metadata": {
        "id": "uL2svFVt9l4y"
      },
      "execution_count": null,
      "outputs": []
    },
    {
      "cell_type": "markdown",
      "source": [
        "**2.** Определите сумму всех элементов последовательности, завершающейся числом 0.\n",
        "\n",
        "**Формат ввода**  \n",
        "Вводится последовательность целых чисел, оканчивающаяся числом 0 (само число 0 в последовательность не входит, а служит как признак ее окончания.\n",
        "\n",
        "**Формат вывода**  \n",
        "Выведите ответ на задачу.\n",
        "\n",
        "Пример 1  \n",
        "Ввод\n",
        "1  \n",
        "7  \n",
        "9  \n",
        "0  \n",
        "Вывод  \n",
        "17\n",
        "\n",
        "Пример 2\n",
        "Ввод  \n",
        "1  \n",
        "1  \n",
        "1  \n",
        "1  \n",
        "1  \n",
        "1  \n",
        "1  \n",
        "1  \n",
        "1  \n",
        "0  \n",
        "Вывод  \n",
        "9\n"
      ],
      "metadata": {
        "id": "cw--Ka7l9KxH"
      }
    },
    {
      "cell_type": "code",
      "source": [],
      "metadata": {
        "id": "BN3Smy9f9mt5"
      },
      "execution_count": null,
      "outputs": []
    },
    {
      "cell_type": "markdown",
      "source": [
        "**3.** Дополнение к предыдущей:\n",
        "* найти среднее значение последовательности,\n",
        "* кол-во четных элементов последовательности\n",
        "* максимум последовательности\n",
        "* кол-во элементов, равных максимуму\n"
      ],
      "metadata": {
        "id": "sIEe5jrV9nEw"
      }
    },
    {
      "cell_type": "code",
      "source": [],
      "metadata": {
        "id": "wPjMd9yJBUxb"
      },
      "execution_count": null,
      "outputs": []
    },
    {
      "cell_type": "markdown",
      "source": [
        "**Из прошлых дз**"
      ],
      "metadata": {
        "id": "_j21mOrTBYJJ"
      }
    },
    {
      "cell_type": "markdown",
      "source": [
        "1. Даны два целых числа A и В, A>B. Выведите все нечётные числа от A до B включительно, в порядке убывания."
      ],
      "metadata": {
        "id": "C53LoE96BU-0"
      }
    },
    {
      "cell_type": "code",
      "source": [],
      "metadata": {
        "id": "HCDlSIz3Bcpi"
      },
      "execution_count": null,
      "outputs": []
    },
    {
      "cell_type": "markdown",
      "source": [
        "2. Дано 10 целых чисел. Вычислите их сумму. Напишите программу, использующую наименьшее число переменных."
      ],
      "metadata": {
        "id": "N4ZaTjp-Bc8y"
      }
    },
    {
      "cell_type": "code",
      "source": [],
      "metadata": {
        "id": "d1gq7-0uBqtY"
      },
      "execution_count": null,
      "outputs": []
    },
    {
      "cell_type": "markdown",
      "source": [
        "3. На вход программе подается последовательность слов, каждое слово на отдельной строке. Концом последовательности является одно из трех слов: «стоп», «хватит», «достаточно» (маленькими буквами, без кавычек). Сами эти слова в последовательность не входят, лишь символизируя её окончание. Напишите программу, которая выводит общее количество членов данной последовательности.\n",
        "\n",
        "Формат входных данных\n",
        "На вход программе подается последовательность слов, каждое слово на отдельной строке.\n",
        "\n",
        "Формат выходных данных\n",
        "Программа должна вывести общее количество членов данной последовательности.\n",
        "\n",
        "Тестовые данные 🟢\n",
        "Sample Input 1:\n",
        "Skyrim\n",
        "GTA\n",
        "Mafia\n",
        "стоп\n",
        "Battlefield\n",
        "\n",
        "Sample Output 1:\n",
        "3\n",
        "\n",
        "Sample Input 2:\n",
        "Yandex\n",
        "Google\n",
        "Opera\n",
        "Safari\n",
        "хватит\n",
        "Mozilla\n",
        "\n",
        "Sample Output 2:\n",
        "4\n",
        "\n",
        "Sample Input 3: Skype\n",
        "Viber\n",
        "Telegram\n",
        "WhatsApp\n",
        "Discord\n",
        "достаточно\n",
        "\n",
        "Sample Output 3:  \n",
        "5"
      ],
      "metadata": {
        "id": "7rRciQYuBq9W"
      }
    },
    {
      "cell_type": "code",
      "source": [],
      "metadata": {
        "id": "5n4RI7kWBtgL"
      },
      "execution_count": null,
      "outputs": []
    },
    {
      "cell_type": "markdown",
      "source": [
        "4.\n",
        "**Пока делимся**\n",
        "\n",
        "На вход программе подается последовательность целых чисел делящихся на 7, каждое число на отдельной строке.\n",
        "Концом последовательности является любое число, не делящееся на 7 (само это число в последовательность не входит, лишь символизируя её конец).\n",
        "\n",
        "Напишите программу, которая выводит члены данной последовательности.\n",
        "\n",
        "Формат входных данных\n",
        "На вход программе подается последовательность чисел, каждое число на отдельной строке.\n",
        "\n",
        "Формат выходных данных\n",
        "Программа должна вывести члены данной последовательности.\n",
        "\n",
        "Тестовые данные 🟢\n",
        "Sample Input 1:\n",
        "49\n",
        "2401\n",
        "4809\n",
        "0\n",
        "2\n",
        "10\n",
        "100\n",
        "Sample Output 1:\n",
        "49 2401\n",
        "4809\n",
        "0\n",
        "Sample Input 2:\n",
        "7\n",
        "7\n",
        "14\n",
        "21\n",
        "13\n",
        "21\n",
        "12\n",
        "45\n",
        "56\n",
        "7\n",
        "7\n",
        "Sample Output 2:\n",
        "7\n",
        "7\n",
        "14\n",
        "21\n",
        "Sample Input 3:\n",
        "7\n",
        "8\n",
        "9\n",
        "8\n",
        "Sample Output 3:\n",
        "7"
      ],
      "metadata": {
        "id": "J-kXCxudBtvJ"
      }
    },
    {
      "cell_type": "code",
      "source": [],
      "metadata": {
        "id": "m_J2KNejByYN"
      },
      "execution_count": null,
      "outputs": []
    },
    {
      "cell_type": "markdown",
      "source": [
        "5.Сумма чисел\n",
        "\n",
        "На вход программе подается последовательность целых чисел, каждое число на отдельной строке. Признаком окончания последовательности является любое отрицательное число, при этом в саму последовательность оно не входит.\n",
        "Напишите программу, которая выводит сумму всех членов данной последовательности.\n",
        "\n",
        "Формат входных данных\n",
        "На вход программе подается последовательность чисел, каждое число на отдельной строке.\n",
        "\n",
        "Формат выходных данных\n",
        "Программа должна вывести сумму членов данной последовательности.\n",
        "\n",
        "Тестовые данные 🟢\n",
        "Sample Input 1:\n",
        "1  \n",
        "2  \n",
        "3  \n",
        "4  \n",
        "5  \n",
        "6  \n",
        "7  \n",
        "8  \n",
        "9  \n",
        "10  \n",
        "-5  \n",
        "45  \n",
        "2  \n",
        "3  \n",
        "Sample Output 1:  \n",
        "55\n",
        "\n",
        "Sample Input 2:  \n",
        "4  \n",
        "-5  \n",
        "Sample Output 2:  \n",
        "4  \n",
        "\n",
        "Sample Input 3:  \n",
        "10  \n",
        "10  \n",
        "-6  \n",
        "43  \n",
        "Sample Output 3:  \n",
        "20"
      ],
      "metadata": {
        "id": "r4RtiNQZB3D3"
      }
    },
    {
      "cell_type": "code",
      "source": [],
      "metadata": {
        "id": "LuOzRl8qB3yo"
      },
      "execution_count": null,
      "outputs": []
    },
    {
      "cell_type": "markdown",
      "source": [
        "6. Обратный порядок 1\n",
        "\n",
        "Дано натуральное число.\n",
        "Напишите программу, которая выводит его цифры в столбик в обратном порядке.\n",
        "\n",
        "Формат входных данных\n",
        "На вход программе подается одно натуральное число.\n",
        "\n",
        "Формат выходных данных\n",
        "Программа должна вывести цифры введенного числа в столбик в обратном порядке.\n",
        "\n",
        "Тестовые данные 🟢\n",
        "Sample Input 1:\n",
        "12345\n",
        "Sample Output 1:\n",
        "5  \n",
        "4  \n",
        "3  \n",
        "2  \n",
        "1  \n",
        "\n",
        "Sample Input 2:  \n",
        "55690454\n",
        "Sample Output 2:\n",
        "4  \n",
        "5  \n",
        "4  \n",
        "0  \n",
        "9  \n",
        "6  \n",
        "5  \n",
        "5  \n",
        "\n",
        "Sample Input 3:  \n",
        "9673210458\n",
        "Sample Output 3:  \n",
        "8  \n",
        "5  \n",
        "4  \n",
        "0  \n",
        "1  \n",
        "2  \n",
        "3  \n",
        "7  \n",
        "6  \n",
        "9  "
      ],
      "metadata": {
        "id": "iwXSOpBaB4Co"
      }
    },
    {
      "cell_type": "markdown",
      "source": [
        "7. По данному целому числу N распечатайте все квадраты натуральных чисел, не превосходящие N, в порядке возрастания.\n",
        "\n"
      ],
      "metadata": {
        "id": "AUyXP59FCyEb"
      }
    },
    {
      "cell_type": "code",
      "source": [],
      "metadata": {
        "id": "r54fdV0rC0a9"
      },
      "execution_count": null,
      "outputs": []
    },
    {
      "cell_type": "markdown",
      "source": [
        "8. Дано целое число, не меньшее 2. Выведите его наименьший натуральный делитель, отличный от 1."
      ],
      "metadata": {
        "id": "hzqTu7cOC03L"
      }
    },
    {
      "cell_type": "markdown",
      "source": [
        "**9**"
      ],
      "metadata": {
        "id": "5SShwDKq_08d"
      }
    },
    {
      "cell_type": "markdown",
      "source": [
        "![image.png](data:image/png;base64,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)"
      ],
      "metadata": {
        "id": "S4X-RbpL_9F1"
      }
    },
    {
      "cell_type": "markdown",
      "source": [
        "**10**  \n",
        "Дополните приведенный код, используя индексатор, так чтобы он вывел 17-ый (если считать с 1) элемент списка primes\n"
      ],
      "metadata": {
        "id": "6iqqCXCWAdeD"
      }
    },
    {
      "cell_type": "code",
      "source": [
        "primes = [2, 3, 5, 7, 11, 13, 17, 19, 23, 29, 31, 37, 41, 43, 47, 53, 59, 61, 67, 71]"
      ],
      "metadata": {
        "id": "SXHPne01AksI"
      },
      "execution_count": null,
      "outputs": []
    },
    {
      "cell_type": "markdown",
      "source": [
        "### Задачи на строки"
      ],
      "metadata": {
        "id": "4-IgPBcAb3ft"
      }
    },
    {
      "cell_type": "markdown",
      "source": [
        "Составьте программу, которая предлагает ввести с клавиатуры две строки а и b, а затем.  \n",
        "1.соединяет их в новую строку с и выводит результат.\n",
        "2. определяет количество символов в новой строке с.  \n",
        "3 .выводит на экран более длинную из строк а и b\n",
        "4. выводит на экран большую из строк а и b"
      ],
      "metadata": {
        "id": "D3kc0Yblb8Qk"
      }
    },
    {
      "cell_type": "markdown",
      "source": [
        "1.соединяет их в новую строку с и выводит результат."
      ],
      "metadata": {
        "id": "SCqhQkvATxS1"
      }
    },
    {
      "cell_type": "code",
      "source": [
        "# для примера\n",
        "# a = 'Hello!!!!!'\n",
        "# b = \"What's up\"\n",
        "a = input()\n",
        "b = input()\n",
        "c = a + b\n",
        "print(c) #1"
      ],
      "metadata": {
        "id": "3_iU2uVTT0at"
      },
      "execution_count": null,
      "outputs": []
    },
    {
      "cell_type": "markdown",
      "source": [
        "2. Определяет количество символов в новой строке с."
      ],
      "metadata": {
        "id": "UCbELIl4T3Qe"
      }
    },
    {
      "cell_type": "code",
      "source": [
        "print(len(c)) #2"
      ],
      "metadata": {
        "id": "ZLusBLayUFQK"
      },
      "execution_count": null,
      "outputs": []
    },
    {
      "cell_type": "markdown",
      "source": [
        "3. выводит на экран более длинную из строк а и b"
      ],
      "metadata": {
        "id": "rN00_eTCUlIM"
      }
    },
    {
      "cell_type": "code",
      "source": [
        "if len(a) > len(b):\n",
        "    print(a)\n",
        "else:\n",
        "    print(b)"
      ],
      "metadata": {
        "id": "JbGRc-izUplc"
      },
      "execution_count": null,
      "outputs": []
    },
    {
      "cell_type": "markdown",
      "source": [
        "4. выводит на экран большую из строк а и b"
      ],
      "metadata": {
        "id": "EJdosCmbUqIG"
      }
    },
    {
      "cell_type": "code",
      "source": [
        "if a > b:\n",
        "    print(a)\n",
        "else:\n",
        "    print(b)"
      ],
      "metadata": {
        "id": "rv_FiceyUt29"
      },
      "execution_count": null,
      "outputs": []
    },
    {
      "cell_type": "code",
      "source": [
        "# Задание 2. Работа со словами строки\n",
        "# Дана строка, состоящая из слов, разделенных пробелами. Вывести самое длинное слово в строке и количество букв в нем.\n",
        "\n",
        "s = input() #'Hello world'\n",
        "a = s.split() # ['Hello', 'world']\n",
        "max_sl = ''\n",
        "max_len = 0\n",
        "for i in range (0, len(a)): # 0 1\n",
        "    if len(a[i]) > max_len:\n",
        "        max_len = len(a[i])\n",
        "        max_sl = a[i]\n",
        "print(max_sl, max_len)\n",
        "# Задание 3. Число слов в строке\n",
        "# Дана строка, состоящая из слов, разделенных пробелами. Определите, сколько в ней слов.\n",
        "\n",
        "# Задание 4. Удаление символов\n",
        "# Дана строка. Удалите из этой строки все символы *.\n",
        "\n",
        "# Задание 5. Переставить два слова\n",
        "# Дана строка, состоящая ровно из двух слов, разделенных пробелом. Переставьте эти слова местами. Результат запишите в строку и выведите получившуюся строку.\n",
        "\n",
        "# Задание 6. ФИО\n",
        "# С клавиатуры вводится строка, содержащая имя, отчество и фамилию человека, например, Петров Михаил Николаевич\n",
        "# Каждые два слова разделены одним пробелом, в начале строки пробелов нет. В результате обработки должна получиться новая строка,\n",
        "# содержащая фамилию и инициалы: М.Н. Петров"
      ],
      "metadata": {
        "colab": {
          "base_uri": "https://localhost:8080/"
        },
        "id": "L7cfglemVmK9",
        "outputId": "ba719e33-ba5b-4307-f3c3-d5578136b8bc"
      },
      "execution_count": null,
      "outputs": [
        {
          "output_type": "stream",
          "name": "stdout",
          "text": [
            "Hello world how are you doing\n",
            "Hello 5\n"
          ]
        }
      ]
    },
    {
      "cell_type": "markdown",
      "source": [
        "### Массивы (дз)"
      ],
      "metadata": {
        "id": "4lDs7nQGfVbO"
      }
    },
    {
      "cell_type": "markdown",
      "source": [
        "**1.** Дополните приведенный код, используя индексатор, так чтобы он вывел последний элемент списка primes"
      ],
      "metadata": {
        "id": "4jDwslogfcQi"
      }
    },
    {
      "cell_type": "code",
      "source": [
        "primes = [2, 3, 5, 7, 11, 13, 17, 19, 23, 29, 31, 37, 41, 43, 47, 53, 59, 61, 67, 71]\n",
        "\n",
        "print()"
      ],
      "metadata": {
        "id": "QKD7Xw_mb7rr"
      },
      "execution_count": null,
      "outputs": []
    },
    {
      "cell_type": "markdown",
      "source": [
        "**2.** Дополните приведенный код, используя срезы, так чтобы он вывел первые 6 элементов списка primes.\n",
        "\n",
        "Примечание. Результатом вывода должна быть строка [2, 3, 5, 7, 11, 13]."
      ],
      "metadata": {
        "id": "5jI0lwXYfz_s"
      }
    },
    {
      "cell_type": "code",
      "source": [
        "primes = [2, 3, 5, 7, 11, 13, 17, 19, 23, 29, 31, 37, 41, 43, 47, 53, 59, 61, 67, 71]\n",
        "\n",
        "print()"
      ],
      "metadata": {
        "id": "GFAbSJ02f39v"
      },
      "execution_count": null,
      "outputs": []
    },
    {
      "cell_type": "markdown",
      "source": [
        "**3**. Проверьте, что числа 10 нет в списке.  \n"
      ],
      "metadata": {
        "id": "Dr2iul8GgCGA"
      }
    },
    {
      "cell_type": "code",
      "source": [
        "numbers = [12.5, 3.1415, 2.718, 9.8, 1.414, 1.1618, 1.324]\n",
        "\n",
        "print()"
      ],
      "metadata": {
        "id": "U0RDoVyhgRXf"
      },
      "execution_count": null,
      "outputs": []
    },
    {
      "cell_type": "markdown",
      "source": [
        "**4.** Дополните приведенный код, так чтобы он вывел сумму минимального и максимального элементов списка numbers."
      ],
      "metadata": {
        "id": "OuuUdxq4gVTK"
      }
    },
    {
      "cell_type": "code",
      "source": [
        "numbers = [12.5, 3.1415, 2.718, 9.8, 1.414, 1.1618, 1.324]\n",
        "\n",
        "print()"
      ],
      "metadata": {
        "id": "AKOFPVClgYcP"
      },
      "execution_count": null,
      "outputs": []
    },
    {
      "cell_type": "markdown",
      "source": [
        "**5.** Дополните приведенный код так, чтобы он вывел среднее арифметическое элементов списка evens."
      ],
      "metadata": {
        "id": "8kUI_0n9gdkq"
      }
    },
    {
      "cell_type": "code",
      "source": [
        "evens = [2, 4, 6, 8, 10, 12, 14, 16, 18, 20]\n",
        "average =\n",
        "\n",
        "print(average)"
      ],
      "metadata": {
        "id": "9XHO807Lgg5E"
      },
      "execution_count": null,
      "outputs": []
    },
    {
      "cell_type": "markdown",
      "source": [
        "**6.** Дополните приведенный код так, чтобы элемент списка имеющий значение Green заменился на значение Зеленый, а элемент Violet на Фиолетовый. Далее необходимо вывести полученный список."
      ],
      "metadata": {
        "id": "-HnvjPKugm3_"
      }
    },
    {
      "cell_type": "code",
      "source": [
        "rainbow = ['Red', 'Orange', 'Yellow', 'Green', 'Blue', 'Indigo', 'Violet']\n",
        "\n",
        "\n",
        "print()"
      ],
      "metadata": {
        "id": "Pt0zLwB1gpic"
      },
      "execution_count": null,
      "outputs": []
    },
    {
      "cell_type": "markdown",
      "source": [
        "**7.** Найдите элемент массива, не являющийся числом и выведите его.\n"
      ],
      "metadata": {
        "id": "Y-3-Bp0d8MXF"
      }
    },
    {
      "cell_type": "code",
      "source": [
        "a = [1.34, 5, 10, 14, 20, 'Hello', 45]"
      ],
      "metadata": {
        "id": "alAk3XQV8bZh"
      },
      "execution_count": null,
      "outputs": []
    },
    {
      "cell_type": "markdown",
      "source": [
        "**8.** Найдите минимальный положительный элемент массива. Выведите сумму всех отрицательных элементов."
      ],
      "metadata": {
        "id": "FVIYC6UA8pGH"
      }
    },
    {
      "cell_type": "code",
      "source": [
        "a = [-10, 20, 0, -3, -4, 5]"
      ],
      "metadata": {
        "id": "OjGZLuib81Z0"
      },
      "execution_count": null,
      "outputs": []
    }
  ]
}